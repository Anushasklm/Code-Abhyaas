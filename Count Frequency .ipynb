{
 "cells": [
  {
   "cell_type": "markdown",
   "id": "3268c251",
   "metadata": {},
   "source": [
    "## Counting frequencies of array elements"
   ]
  },
  {
   "cell_type": "code",
   "execution_count": 1,
   "id": "b766d679",
   "metadata": {},
   "outputs": [
    {
     "name": "stdout",
     "output_type": "stream",
     "text": [
      "10   3\n",
      "20   4\n",
      "5   1\n"
     ]
    }
   ],
   "source": [
    "# Python3 program to count frequencies\n",
    "# of array items\n",
    "\n",
    "def countFreq(arr, n):\n",
    " \n",
    "    arr1 = dict()\n",
    " \n",
    "    # Traverse through array elements\n",
    "    # and count frequencies\n",
    "    for i in range(n):\n",
    "        if arr[i] in arr1.keys():\n",
    "            arr1[arr[i]] += 1\n",
    "        else:\n",
    "            arr1[arr[i]] = 1\n",
    "             \n",
    "    # Traverse through map and print\n",
    "    # frequencies\n",
    "    for x in arr1:\n",
    "        print(x, \" \", arr1[x])\n",
    "    \n",
    "        \n",
    " \n",
    "arr = [10, 20, 20, 10, 10, 20, 5, 20 ]\n",
    "n = len(arr)\n",
    "countFreq(arr, n)"
   ]
  },
  {
   "cell_type": "markdown",
   "id": "dc9a7c3f",
   "metadata": {},
   "source": [
    "## print maximum frequent element."
   ]
  },
  {
   "cell_type": "code",
   "execution_count": 16,
   "id": "32af9792",
   "metadata": {},
   "outputs": [
    {
     "name": "stdout",
     "output_type": "stream",
     "text": [
      "Original list : [10, 20, 20, 10, 10, 20, 5, 20]\n",
      "Most frequent number is : 20\n"
     ]
    }
   ],
   "source": [
    "test_list = [10,20,20,10,10,20,5,20]\n",
    " \n",
    "# printing original list\n",
    "print (\"Original list : \" + str(test_list))\n",
    " \n",
    "# using naive method to\n",
    "# get most frequent element\n",
    "max = 0\n",
    "res = test_list[0]\n",
    "for i in test_list:\n",
    "    freq = test_list.count(i)\n",
    "    if freq > max:\n",
    "        max = freq\n",
    "        res = i\n",
    "     \n",
    "# printing result\n",
    "print (\"Most frequent number is : \" + str(res))"
   ]
  },
  {
   "cell_type": "code",
   "execution_count": 22,
   "id": "9689af74",
   "metadata": {},
   "outputs": [
    {
     "name": "stdout",
     "output_type": "stream",
     "text": [
      "Original list : [10, 20, 20, 10, 10, 20, 5, 20]\n",
      "Most frequent number is : 20\n"
     ]
    }
   ],
   "source": [
    "test_list = [10,20,20,10,10,20,5,20]\n",
    " \n",
    "# printing original list\n",
    "print (\"Original list : \" + str(test_list))\n",
    " \n",
    "# using naive method to\n",
    "# get most frequent element\n",
    "max = 0\n",
    "res = test_list[0]\n",
    "for i in test_list:\n",
    "    freq = test_list.count(i)\n",
    "    if freq > max:\n",
    "        max = freq\n",
    "        res = i\n",
    "     \n",
    "# printing result\n",
    "print (\"Most frequent number is : \" + str(res))"
   ]
  },
  {
   "cell_type": "code",
   "execution_count": null,
   "id": "f4f5a319",
   "metadata": {},
   "outputs": [],
   "source": []
  }
 ],
 "metadata": {
  "kernelspec": {
   "display_name": "Python 3 (ipykernel)",
   "language": "python",
   "name": "python3"
  },
  "language_info": {
   "codemirror_mode": {
    "name": "ipython",
    "version": 3
   },
   "file_extension": ".py",
   "mimetype": "text/x-python",
   "name": "python",
   "nbconvert_exporter": "python",
   "pygments_lexer": "ipython3",
   "version": "3.9.12"
  }
 },
 "nbformat": 4,
 "nbformat_minor": 5
}
